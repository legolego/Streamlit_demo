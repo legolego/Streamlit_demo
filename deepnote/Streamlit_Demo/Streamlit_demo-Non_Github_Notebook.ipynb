{
  "cells": [
    {
      "cell_type": "code",
      "source": "import numpy as np\nimport pandas as pd\nimport streamlit as st\nimport os\nfrom PIL import Image\nfrom pathlib import Path\nimport altair as alt",
      "metadata": {
        "tags": [],
        "cell_id": "3cf82d787a0d4ccab8ea998faba68320",
        "source_hash": "c701b247",
        "execution_start": 1666128019767,
        "execution_millis": 1609,
        "deepnote_to_be_reexecuted": false,
        "deepnote_cell_type": "code"
      },
      "outputs": [],
      "execution_count": null
    },
    {
      "cell_type": "code",
      "source": "df_iris = pd.read_csv('./For_github/streamlit/data/IRIS.csv')",
      "metadata": {
        "tags": [],
        "cell_id": "1778f2aacb4f4e7e94ee337a66237ea3",
        "source_hash": "8984772e",
        "execution_start": 1666128021390,
        "execution_millis": 9,
        "deepnote_to_be_reexecuted": false,
        "deepnote_cell_type": "code"
      },
      "outputs": [],
      "execution_count": null
    },
    {
      "cell_type": "code",
      "source": "df_iris\n",
      "metadata": {
        "tags": [],
        "cell_id": "bdac4b85b499412a8e4ea9ff796d8d7f",
        "source_hash": "2d4a5aae",
        "execution_start": 1666128021415,
        "execution_millis": 49,
        "deepnote_to_be_reexecuted": false,
        "deepnote_cell_type": "code"
      },
      "outputs": [
        {
          "output_type": "execute_result",
          "execution_count": 3,
          "data": {
            "application/vnd.deepnote.dataframe.v3+json": {
              "column_count": 5,
              "row_count": 150,
              "columns": [
                {
                  "name": "sepalLength",
                  "dtype": "float64",
                  "stats": {
                    "unique_count": 35,
                    "nan_count": 0,
                    "min": "4.3",
                    "max": "7.9",
                    "histogram": [
                      {
                        "bin_start": 4.3,
                        "bin_end": 4.66,
                        "count": 9
                      },
                      {
                        "bin_start": 4.66,
                        "bin_end": 5.02,
                        "count": 23
                      },
                      {
                        "bin_start": 5.02,
                        "bin_end": 5.38,
                        "count": 14
                      },
                      {
                        "bin_start": 5.38,
                        "bin_end": 5.74,
                        "count": 27
                      },
                      {
                        "bin_start": 5.74,
                        "bin_end": 6.1,
                        "count": 16
                      },
                      {
                        "bin_start": 6.1,
                        "bin_end": 6.46,
                        "count": 26
                      },
                      {
                        "bin_start": 6.46,
                        "bin_end": 6.82,
                        "count": 18
                      },
                      {
                        "bin_start": 6.82,
                        "bin_end": 7.18,
                        "count": 6
                      },
                      {
                        "bin_start": 7.18,
                        "bin_end": 7.54,
                        "count": 5
                      },
                      {
                        "bin_start": 7.54,
                        "bin_end": 7.9,
                        "count": 6
                      }
                    ]
                  }
                },
                {
                  "name": "sepalWidth",
                  "dtype": "float64",
                  "stats": {
                    "unique_count": 23,
                    "nan_count": 0,
                    "min": "2.0",
                    "max": "4.4",
                    "histogram": [
                      {
                        "bin_start": 2,
                        "bin_end": 2.24,
                        "count": 4
                      },
                      {
                        "bin_start": 2.24,
                        "bin_end": 2.48,
                        "count": 7
                      },
                      {
                        "bin_start": 2.48,
                        "bin_end": 2.72,
                        "count": 22
                      },
                      {
                        "bin_start": 2.72,
                        "bin_end": 2.96,
                        "count": 24
                      },
                      {
                        "bin_start": 2.96,
                        "bin_end": 3.2,
                        "count": 37
                      },
                      {
                        "bin_start": 3.2,
                        "bin_end": 3.4400000000000004,
                        "count": 31
                      },
                      {
                        "bin_start": 3.4400000000000004,
                        "bin_end": 3.6800000000000006,
                        "count": 10
                      },
                      {
                        "bin_start": 3.6800000000000006,
                        "bin_end": 3.9200000000000004,
                        "count": 11
                      },
                      {
                        "bin_start": 3.9200000000000004,
                        "bin_end": 4.16,
                        "count": 2
                      },
                      {
                        "bin_start": 4.16,
                        "bin_end": 4.4,
                        "count": 2
                      }
                    ]
                  }
                },
                {
                  "name": "petalLength",
                  "dtype": "float64",
                  "stats": {
                    "unique_count": 43,
                    "nan_count": 0,
                    "min": "1.0",
                    "max": "6.9",
                    "histogram": [
                      {
                        "bin_start": 1,
                        "bin_end": 1.59,
                        "count": 37
                      },
                      {
                        "bin_start": 1.59,
                        "bin_end": 2.18,
                        "count": 13
                      },
                      {
                        "bin_start": 2.18,
                        "bin_end": 2.7700000000000005,
                        "count": 0
                      },
                      {
                        "bin_start": 2.7700000000000005,
                        "bin_end": 3.3600000000000003,
                        "count": 3
                      },
                      {
                        "bin_start": 3.3600000000000003,
                        "bin_end": 3.95,
                        "count": 8
                      },
                      {
                        "bin_start": 3.95,
                        "bin_end": 4.540000000000001,
                        "count": 26
                      },
                      {
                        "bin_start": 4.540000000000001,
                        "bin_end": 5.130000000000001,
                        "count": 29
                      },
                      {
                        "bin_start": 5.130000000000001,
                        "bin_end": 5.720000000000001,
                        "count": 18
                      },
                      {
                        "bin_start": 5.720000000000001,
                        "bin_end": 6.3100000000000005,
                        "count": 11
                      },
                      {
                        "bin_start": 6.3100000000000005,
                        "bin_end": 6.9,
                        "count": 5
                      }
                    ]
                  }
                },
                {
                  "name": "petalWidth",
                  "dtype": "float64",
                  "stats": {
                    "unique_count": 22,
                    "nan_count": 0,
                    "min": "0.1",
                    "max": "2.5",
                    "histogram": [
                      {
                        "bin_start": 0.1,
                        "bin_end": 0.33999999999999997,
                        "count": 41
                      },
                      {
                        "bin_start": 0.33999999999999997,
                        "bin_end": 0.58,
                        "count": 8
                      },
                      {
                        "bin_start": 0.58,
                        "bin_end": 0.82,
                        "count": 1
                      },
                      {
                        "bin_start": 0.82,
                        "bin_end": 1.06,
                        "count": 7
                      },
                      {
                        "bin_start": 1.06,
                        "bin_end": 1.3,
                        "count": 8
                      },
                      {
                        "bin_start": 1.3,
                        "bin_end": 1.54,
                        "count": 33
                      },
                      {
                        "bin_start": 1.54,
                        "bin_end": 1.78,
                        "count": 6
                      },
                      {
                        "bin_start": 1.78,
                        "bin_end": 2.02,
                        "count": 23
                      },
                      {
                        "bin_start": 2.02,
                        "bin_end": 2.2600000000000002,
                        "count": 9
                      },
                      {
                        "bin_start": 2.2600000000000002,
                        "bin_end": 2.5,
                        "count": 14
                      }
                    ]
                  }
                },
                {
                  "name": "variety",
                  "dtype": "object",
                  "stats": {
                    "unique_count": 3,
                    "nan_count": 0,
                    "categories": [
                      {
                        "name": "Setosa",
                        "count": 50
                      },
                      {
                        "name": "Versicolor",
                        "count": 50
                      },
                      {
                        "name": "Virginica",
                        "count": 50
                      }
                    ]
                  }
                },
                {
                  "name": "_deepnote_index_column",
                  "dtype": "int64"
                }
              ],
              "rows": [
                {
                  "sepalLength": "5.1",
                  "sepalWidth": "3.5",
                  "petalLength": "1.4",
                  "petalWidth": "0.2",
                  "variety": "Setosa",
                  "_deepnote_index_column": "0"
                },
                {
                  "sepalLength": "4.9",
                  "sepalWidth": "3.0",
                  "petalLength": "1.4",
                  "petalWidth": "0.2",
                  "variety": "Setosa",
                  "_deepnote_index_column": "1"
                },
                {
                  "sepalLength": "4.7",
                  "sepalWidth": "3.2",
                  "petalLength": "1.3",
                  "petalWidth": "0.2",
                  "variety": "Setosa",
                  "_deepnote_index_column": "2"
                },
                {
                  "sepalLength": "4.6",
                  "sepalWidth": "3.1",
                  "petalLength": "1.5",
                  "petalWidth": "0.2",
                  "variety": "Setosa",
                  "_deepnote_index_column": "3"
                },
                {
                  "sepalLength": "5.0",
                  "sepalWidth": "3.6",
                  "petalLength": "1.4",
                  "petalWidth": "0.2",
                  "variety": "Setosa",
                  "_deepnote_index_column": "4"
                },
                {
                  "sepalLength": "5.4",
                  "sepalWidth": "3.9",
                  "petalLength": "1.7",
                  "petalWidth": "0.4",
                  "variety": "Setosa",
                  "_deepnote_index_column": "5"
                },
                {
                  "sepalLength": "4.6",
                  "sepalWidth": "3.4",
                  "petalLength": "1.4",
                  "petalWidth": "0.3",
                  "variety": "Setosa",
                  "_deepnote_index_column": "6"
                },
                {
                  "sepalLength": "5.0",
                  "sepalWidth": "3.4",
                  "petalLength": "1.5",
                  "petalWidth": "0.2",
                  "variety": "Setosa",
                  "_deepnote_index_column": "7"
                },
                {
                  "sepalLength": "4.4",
                  "sepalWidth": "2.9",
                  "petalLength": "1.4",
                  "petalWidth": "0.2",
                  "variety": "Setosa",
                  "_deepnote_index_column": "8"
                },
                {
                  "sepalLength": "4.9",
                  "sepalWidth": "3.1",
                  "petalLength": "1.5",
                  "petalWidth": "0.1",
                  "variety": "Setosa",
                  "_deepnote_index_column": "9"
                }
              ]
            },
            "text/plain": "     sepalLength  sepalWidth  petalLength  petalWidth    variety\n0            5.1         3.5          1.4         0.2     Setosa\n1            4.9         3.0          1.4         0.2     Setosa\n2            4.7         3.2          1.3         0.2     Setosa\n3            4.6         3.1          1.5         0.2     Setosa\n4            5.0         3.6          1.4         0.2     Setosa\n..           ...         ...          ...         ...        ...\n145          6.7         3.0          5.2         2.3  Virginica\n146          6.3         2.5          5.0         1.9  Virginica\n147          6.5         3.0          5.2         2.0  Virginica\n148          6.2         3.4          5.4         2.3  Virginica\n149          5.9         3.0          5.1         1.8  Virginica\n\n[150 rows x 5 columns]",
            "text/html": "<div>\n<style scoped>\n    .dataframe tbody tr th:only-of-type {\n        vertical-align: middle;\n    }\n\n    .dataframe tbody tr th {\n        vertical-align: top;\n    }\n\n    .dataframe thead th {\n        text-align: right;\n    }\n</style>\n<table border=\"1\" class=\"dataframe\">\n  <thead>\n    <tr style=\"text-align: right;\">\n      <th></th>\n      <th>sepalLength</th>\n      <th>sepalWidth</th>\n      <th>petalLength</th>\n      <th>petalWidth</th>\n      <th>variety</th>\n    </tr>\n  </thead>\n  <tbody>\n    <tr>\n      <th>0</th>\n      <td>5.1</td>\n      <td>3.5</td>\n      <td>1.4</td>\n      <td>0.2</td>\n      <td>Setosa</td>\n    </tr>\n    <tr>\n      <th>1</th>\n      <td>4.9</td>\n      <td>3.0</td>\n      <td>1.4</td>\n      <td>0.2</td>\n      <td>Setosa</td>\n    </tr>\n    <tr>\n      <th>2</th>\n      <td>4.7</td>\n      <td>3.2</td>\n      <td>1.3</td>\n      <td>0.2</td>\n      <td>Setosa</td>\n    </tr>\n    <tr>\n      <th>3</th>\n      <td>4.6</td>\n      <td>3.1</td>\n      <td>1.5</td>\n      <td>0.2</td>\n      <td>Setosa</td>\n    </tr>\n    <tr>\n      <th>4</th>\n      <td>5.0</td>\n      <td>3.6</td>\n      <td>1.4</td>\n      <td>0.2</td>\n      <td>Setosa</td>\n    </tr>\n    <tr>\n      <th>...</th>\n      <td>...</td>\n      <td>...</td>\n      <td>...</td>\n      <td>...</td>\n      <td>...</td>\n    </tr>\n    <tr>\n      <th>145</th>\n      <td>6.7</td>\n      <td>3.0</td>\n      <td>5.2</td>\n      <td>2.3</td>\n      <td>Virginica</td>\n    </tr>\n    <tr>\n      <th>146</th>\n      <td>6.3</td>\n      <td>2.5</td>\n      <td>5.0</td>\n      <td>1.9</td>\n      <td>Virginica</td>\n    </tr>\n    <tr>\n      <th>147</th>\n      <td>6.5</td>\n      <td>3.0</td>\n      <td>5.2</td>\n      <td>2.0</td>\n      <td>Virginica</td>\n    </tr>\n    <tr>\n      <th>148</th>\n      <td>6.2</td>\n      <td>3.4</td>\n      <td>5.4</td>\n      <td>2.3</td>\n      <td>Virginica</td>\n    </tr>\n    <tr>\n      <th>149</th>\n      <td>5.9</td>\n      <td>3.0</td>\n      <td>5.1</td>\n      <td>1.8</td>\n      <td>Virginica</td>\n    </tr>\n  </tbody>\n</table>\n<p>150 rows × 5 columns</p>\n</div>"
          },
          "metadata": {}
        }
      ],
      "execution_count": null
    },
    {
      "cell_type": "markdown",
      "source": "<a style='text-decoration:none;line-height:16px;display:flex;color:#5B5B62;padding:10px;justify-content:end;' href='https://deepnote.com?utm_source=created-in-deepnote-cell&projectId=4329245f-fd25-472c-b2b7-a57f57a1a9f7' target=\"_blank\">\n<img alt='Created in deepnote.com' style='display:inline;max-height:16px;margin:0px;margin-right:7.5px;' src='data:image/svg+xml;base64,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' > </img>\nCreated in <span style='font-weight:600;margin-left:4px;'>Deepnote</span></a>",
      "metadata": {
        "created_in_deepnote_cell": true,
        "deepnote_cell_type": "markdown"
      }
    }
  ],
  "nbformat": 4,
  "nbformat_minor": 0,
  "metadata": {
    "deepnote_notebook_id": "01f651b7fd9148e5be78d3bb8d3dd51e",
    "deepnote": {},
    "deepnote_execution_queue": [],
    "deepnote_persisted_session": {
      "createdAt": "2022-10-18T20:16:56.583Z"
    }
  }
}